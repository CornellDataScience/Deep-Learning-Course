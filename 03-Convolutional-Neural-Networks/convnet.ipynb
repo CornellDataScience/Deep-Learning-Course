{
 "cells": [
  {
   "cell_type": "markdown",
   "metadata": {},
   "source": [
    "# Convolutional Neural Network: VGG-16"
   ]
  },
  {
   "cell_type": "code",
   "execution_count": 1,
   "metadata": {
    "collapsed": true
   },
   "outputs": [],
   "source": [
    "import sys\n",
    "import numpy as np\n",
    "import tensorflow as tf"
   ]
  },
  {
   "cell_type": "code",
   "execution_count": 2,
   "metadata": {
    "collapsed": true
   },
   "outputs": [],
   "source": [
    "from __future__ import absolute_import\n",
    "from __future__ import division\n",
    "from __future__ import print_function"
   ]
  },
  {
   "cell_type": "markdown",
   "metadata": {},
   "source": [
    "Below, we create several helper functions to create the layers of our convolutional neural network:   \n",
    "    \n",
    "`conv` takes as its arguments the input volume, the number of filters in the convolutional layer, and a name we assign it. Since we are using pre-trained weights we use the `tf.constant_initializer()`, but when starting from scratch you will want to use `tf.truncated_normal()` or the `xavier_initializer()`. We return the (normalized) output volume, which willl be the input volume to the next layer."
   ]
  },
  {
   "cell_type": "code",
   "execution_count": 3,
   "metadata": {
    "collapsed": true
   },
   "outputs": [],
   "source": [
    "def conv(inputs, name):\n",
    "    weights, bias, beta, gamma, mov_mean, mov_var = load_weights(name)\n",
    "    with tf.variable_scope(name):\n",
    "        W = tf.get_variable('W', initializer=weights)\n",
    "        b = tf.get_variable('b', initializer=bias)\n",
    "        convolved = tf.nn.conv2d(input=inputs,\n",
    "                                 filter=W,\n",
    "                                 strides=[1,1,1,1],\n",
    "                                 padding='SAME')\n",
    "        activations = tf.nn.relu(convolved + b)\n",
    "        normed = tf.nn.batch_normalization(activations, mov_mean, mov_var, beta, gamma, 1e-7)\n",
    "        return normed, W"
   ]
  },
  {
   "cell_type": "markdown",
   "metadata": {},
   "source": [
    "`pool` creates a pooling layer - you will notice that a pooling layer does not have any learned parameters!"
   ]
  },
  {
   "cell_type": "code",
   "execution_count": 4,
   "metadata": {
    "collapsed": true
   },
   "outputs": [],
   "source": [
    "def pool(inputs, name):\n",
    "    with tf.variable_scope(name):\n",
    "        return tf.nn.max_pool(inputs, ksize=[1,2,2,1], strides=[1,2,2,1], padding='SAME')"
   ]
  },
  {
   "cell_type": "markdown",
   "metadata": {},
   "source": [
    "`fc` creates a fully connected layer as we did before - we compute the weighted sum of pixels, add a bias term, pass the scores through an activation function (we use ReLU), and then normalize the output. "
   ]
  },
  {
   "cell_type": "code",
   "execution_count": 5,
   "metadata": {
    "collapsed": true
   },
   "outputs": [],
   "source": [
    "def fc(inputs, name):\n",
    "    weights, bias, beta, gamma, mov_mean, mov_var = load_weights(name)\n",
    "    with tf.variable_scope(name):\n",
    "        W = tf.get_variable('W', initializer=weights)\n",
    "        b = tf.get_variable('b', initializer=bias)\n",
    "        activations = tf.nn.relu(tf.matmul(inputs, W) + b)\n",
    "        normed = tf.nn.batch_normalization(activations, mov_mean, mov_var, beta, gamma, 1e-7)\n",
    "        return normed, W"
   ]
  },
  {
   "cell_type": "markdown",
   "metadata": {},
   "source": [
    "`softmax` creates a softmax layer, which allows us to convert scores into easily interpretable probabilities. Note that we will only ever use the softmax layer at the very end!"
   ]
  },
  {
   "cell_type": "code",
   "execution_count": 6,
   "metadata": {
    "collapsed": true
   },
   "outputs": [],
   "source": [
    "def softmax(inputs, name):\n",
    "    weights, bias = load_weights(name)\n",
    "    with tf.variable_scope(name):\n",
    "        W = tf.get_variable('W', initializer=weights)\n",
    "        b = tf.get_variable('b', initializer=bias)\n",
    "        return tf.nn.softmax(tf.matmul(inputs, W) + b), W"
   ]
  },
  {
   "cell_type": "code",
   "execution_count": 7,
   "metadata": {
    "collapsed": true
   },
   "outputs": [],
   "source": [
    "IMAGE_WIDTH = 32\n",
    "IMAGE_HEIGHT = 32\n",
    "COLOR_CHANNELS = 3"
   ]
  },
  {
   "cell_type": "markdown",
   "metadata": {},
   "source": [
    "Our pre-trained weights have been saved as a .npz file, which can be loaded using the `np.load` function - this returns a dict similar to what we get with the CIFAR-10 data. Once we have loaded the weights, we use a helper function to return the appropriate weights given a layer name. For each layer, we have a `kernel` ($W$), `bias` ($b$), and normalization parameters $\\beta, \\gamma$, the moving average and the moving variance."
   ]
  },
  {
   "cell_type": "code",
   "execution_count": 8,
   "metadata": {
    "collapsed": true
   },
   "outputs": [],
   "source": [
    "WEIGHTS = 'cifar10vgg_numpy.npz'\n",
    "weights = np.load(WEIGHTS)"
   ]
  },
  {
   "cell_type": "code",
   "execution_count": 9,
   "metadata": {
    "collapsed": true
   },
   "outputs": [],
   "source": [
    "def load_weights(layer_name):\n",
    "    layer_type = layer_name.split('_')[0]\n",
    "    layer_num = int(layer_name.split('_')[1])\n",
    "    W = weights[\"b'\" + str(layer_name) + \"/kernel:0'\"]\n",
    "    b = weights[\"b'\" + str(layer_name) + \"/bias:0'\"]\n",
    "    if layer_type == 'conv2d':\n",
    "        beta = weights[\"b'batch_normalization_\" + str(layer_num) + \"/beta:0'\"]\n",
    "        gamma = weights[\"b'batch_normalization_\" + str(layer_num) + \"/gamma:0'\"]\n",
    "        mov_mean = weights[\"b'batch_normalization_\" + str(layer_num) + \"/moving_mean:0'\"]\n",
    "        mov_var = weights[\"b'batch_normalization_\" + str(layer_num) + \"/moving_variance:0'\"]\n",
    "        return W, b, beta, gamma, mov_mean, mov_var\n",
    "    elif layer_type == 'dense':\n",
    "        if layer_num == 1:\n",
    "            beta = weights[\"b'batch_normalization_14/beta:0'\"]\n",
    "            gamma = weights[\"b'batch_normalization_14/gamma:0'\"]\n",
    "            mov_mean = weights[\"b'batch_normalization_14/moving_mean:0'\"]\n",
    "            mov_var = weights[\"b'batch_normalization_14/moving_variance:0'\"]\n",
    "            return W, b, beta, gamma, mov_mean, mov_var\n",
    "        else:\n",
    "            return W, b"
   ]
  },
  {
   "cell_type": "markdown",
   "metadata": {},
   "source": [
    "Here we set up the architecture of our convolutional network, as in the diagram below (with a slight modification of the fully connected layers):     \n",
    "![alt text](vgg16.png \"Title\")"
   ]
  },
  {
   "cell_type": "code",
   "execution_count": 10,
   "metadata": {
    "collapsed": true
   },
   "outputs": [],
   "source": [
    "img = tf.placeholder(tf.float32, shape=[None, IMAGE_HEIGHT, IMAGE_WIDTH, COLOR_CHANNELS], name='img')\n",
    "\n",
    "conv1_1, w1_1 = conv(img, 'conv2d_1')\n",
    "conv1_2, w1_2 = conv(conv1_1, 'conv2d_2')\n",
    "pool1 = pool(conv1_2, 'pool1')\n",
    "\n",
    "conv2_1, w2_1 = conv(pool1, 'conv2d_3')\n",
    "conv2_2, w2_2 = conv(conv2_1, 'conv2d_4')\n",
    "pool2 = pool(conv2_2, 'pool2')\n",
    "\n",
    "conv3_1, w3_1 = conv(pool2, 'conv2d_5')\n",
    "conv3_2, w3_2 = conv(conv3_1, 'conv2d_6')\n",
    "conv3_3, w3_3 = conv(conv3_2, 'conv2d_7')\n",
    "pool3 = pool(conv3_3, 'pool3')\n",
    "\n",
    "conv4_1, w4_1 = conv(pool3, 'conv2d_8')\n",
    "conv4_2, w4_2 = conv(conv4_1, 'conv2d_9')\n",
    "conv4_3, w4_3 = conv(conv4_2, 'conv2d_10')\n",
    "pool4 = pool(conv4_3, 'pool4')\n",
    "\n",
    "conv5_1, w5_1 = conv(pool4, 'conv2d_11')\n",
    "conv5_2, w5_2 = conv(conv5_1, 'conv2d_12')\n",
    "conv5_3, w5_3 = conv(conv5_2, 'conv2d_13')\n",
    "pool5 = pool(conv5_3, 'pool5')\n",
    "\n",
    "flattened = tf.reshape(pool5, [-1, 512])\n",
    "fc6, w6 = fc(flattened, 'dense_1')\n",
    "pred, w7 = softmax(fc6, 'dense_2')"
   ]
  },
  {
   "cell_type": "markdown",
   "metadata": {},
   "source": [
    "As before, we use the a helper function to allow us to load CIFAR-10 data."
   ]
  },
  {
   "cell_type": "code",
   "execution_count": 11,
   "metadata": {
    "collapsed": true
   },
   "outputs": [],
   "source": [
    "def unpickle(file):\n",
    "    import pickle\n",
    "    with open(file, 'rb') as fo:\n",
    "        if sys.version[0] == '3':\n",
    "            dict = pickle.load(fo, encoding='bytes')\n",
    "        elif sys.version[0] == '2':\n",
    "            dict = pickle.load(fo)\n",
    "    return dict"
   ]
  },
  {
   "cell_type": "markdown",
   "metadata": {},
   "source": [
    "The network we are using was trained on standardized data, meaning that all the inputs were scaled so that the mean of the training data was 0 and the standard deviation was 1. This is a technique that allows us to train the model faster, because if we work with strictly positive input values from 0-255, we have a strong bias towards highly positive activations if we randomly initialize our weights."
   ]
  },
  {
   "cell_type": "code",
   "execution_count": 12,
   "metadata": {
    "collapsed": true
   },
   "outputs": [],
   "source": [
    "MEAN = 120.707\n",
    "STD = 64.15\n",
    "\n",
    "def normalize(X_test):\n",
    "    return (X_test - MEAN)/(STD + 1e-7)\n",
    "\n",
    "def denormalize(X_out):\n",
    "    return (X_out)*(STD + 1e-7) + MEAN"
   ]
  },
  {
   "cell_type": "markdown",
   "metadata": {},
   "source": [
    "Let's test the performance of our convolutional network on the CIFAR-10 data we have been using!"
   ]
  },
  {
   "cell_type": "code",
   "execution_count": 13,
   "metadata": {
    "collapsed": true
   },
   "outputs": [],
   "source": [
    "cifar10 = unpickle('cifar-10-data')\n",
    "permutation = np.random.permutation(10000)\n",
    "data = np.array(cifar10[b'data'])[permutation]\n",
    "labels = np.array(cifar10[b'labels'])[permutation]\n",
    "\n",
    "n_images = 300\n",
    "x_test = normalize(data.reshape(10000, 3, 32, 32).transpose(0,2,3,1).astype(\"uint8\"))[:n_images]\n",
    "y_test = labels[:n_images]"
   ]
  },
  {
   "cell_type": "markdown",
   "metadata": {},
   "source": [
    "We now create a placeholder to feed in the labels, and define `correct` and `accuracy` so we can analyze the performance of our model."
   ]
  },
  {
   "cell_type": "code",
   "execution_count": 14,
   "metadata": {
    "collapsed": true
   },
   "outputs": [],
   "source": [
    "y = tf.placeholder(tf.int64, [None,], name='y')\n",
    "correct = tf.equal(tf.argmax(pred, axis=1), y)\n",
    "accuracy = tf.reduce_mean(tf.cast(correct, tf.float32))"
   ]
  },
  {
   "cell_type": "code",
   "execution_count": 15,
   "metadata": {},
   "outputs": [
    {
     "name": "stdout",
     "output_type": "stream",
     "text": [
      "Accuracy on CIFAR-10 data: 100.0%\n"
     ]
    }
   ],
   "source": [
    "sess = tf.InteractiveSession()\n",
    "sess.run(tf.global_variables_initializer())\n",
    "acc = sess.run(accuracy, feed_dict={img:x_test, y:y_test})\n",
    "\n",
    "print('Accuracy on CIFAR-10 data: ' +  str(100*round(acc, 4)) + '%')"
   ]
  },
  {
   "cell_type": "markdown",
   "metadata": {},
   "source": [
    "While our model is definitely very powerful, this measure is deceiving as the network was trained using this exact data! We can't tell if our model simply \"memorized\" all the images in the dataset, or if it generalizes to other images as well. Let's now test the model using data that it was not trained on."
   ]
  },
  {
   "cell_type": "code",
   "execution_count": 16,
   "metadata": {
    "collapsed": true
   },
   "outputs": [],
   "source": [
    "cifar10 = unpickle('test_batch')\n",
    "permutation = np.random.permutation(10000)\n",
    "data = np.array(cifar10[b'data'])[permutation]\n",
    "labels = np.array(cifar10[b'labels'])[permutation]\n",
    "\n",
    "n_images = 300\n",
    "x_test = normalize(data.reshape(10000, 3, 32, 32).transpose(0,2,3,1).astype(\"uint8\"))[:n_images]\n",
    "y_test = labels[:n_images]"
   ]
  },
  {
   "cell_type": "code",
   "execution_count": 17,
   "metadata": {},
   "outputs": [
    {
     "name": "stdout",
     "output_type": "stream",
     "text": [
      "Accuracy on CIFAR-10 test data: 94.9999988079%\n"
     ]
    }
   ],
   "source": [
    "sess = tf.InteractiveSession()\n",
    "sess.run(tf.global_variables_initializer())\n",
    "acc = sess.run(accuracy, feed_dict={img:x_test, y:y_test})\n",
    "\n",
    "print('Accuracy on CIFAR-10 test data: ' +  str(100*round(acc, 4)) + '%')"
   ]
  },
  {
   "cell_type": "markdown",
   "metadata": {},
   "source": [
    "Accuracy on the testing set is still very high! Convolutional neural networks are the state-of-the-art architecture for image classification. In case you still don't believe these results, we can test on arbitrary images below."
   ]
  },
  {
   "cell_type": "markdown",
   "metadata": {},
   "source": [
    "The packages below will be used to load images and plot them."
   ]
  },
  {
   "cell_type": "code",
   "execution_count": 18,
   "metadata": {
    "collapsed": true
   },
   "outputs": [],
   "source": [
    "import scipy.misc\n",
    "import matplotlib.pyplot as plt\n",
    "%matplotlib inline"
   ]
  },
  {
   "cell_type": "markdown",
   "metadata": {},
   "source": [
    "Below is a helper funtion that will read in a local image file from your computer and create a tensor with dimensions [1, height, width, 3] that can be fed into our CNN."
   ]
  },
  {
   "cell_type": "code",
   "execution_count": 19,
   "metadata": {
    "collapsed": true
   },
   "outputs": [],
   "source": [
    "def load_image(path):\n",
    "    image = scipy.misc.imread(path)\n",
    "    image = np.reshape(image, ((1,) + image.shape)) \n",
    "    image = normalize(image)                     \n",
    "    return image"
   ]
  },
  {
   "cell_type": "markdown",
   "metadata": {},
   "source": [
    "Test your own images by changing the file path `IMG` below. (Note that your images must be 32x32)"
   ]
  },
  {
   "cell_type": "code",
   "execution_count": 20,
   "metadata": {
    "collapsed": true
   },
   "outputs": [],
   "source": [
    "label_names = ['airplane','automobile','bird','cat','deer','dog','frog','horse','ship','truck']\n",
    "IMG = 'bigbird.jpeg'"
   ]
  },
  {
   "cell_type": "code",
   "execution_count": 21,
   "metadata": {},
   "outputs": [
    {
     "name": "stdout",
     "output_type": "stream",
     "text": [
      "Prediction: bird\n"
     ]
    },
    {
     "data": {
      "image/png": "[encoded data removed]",
      "text/plain": [
       "<matplotlib.figure.Figure at 0x7f39d3461ef0>"
      ]
     },
     "metadata": {},
     "output_type": "display_data"
    }
   ],
   "source": [
    "test_image = load_image(IMG)\n",
    "prediction = np.argmax(sess.run(pred, feed_dict={img:test_image}))\n",
    "\n",
    "plt.imshow(255 - denormalize(test_image[0]));\n",
    "print('Prediction:', label_names[prediction])"
   ]
  },
  {
   "cell_type": "markdown",
   "metadata": {},
   "source": [
    "To further train the network using your own data, you can create a labeled dataset of your own and use the code below!"
   ]
  },
  {
   "cell_type": "code",
   "execution_count": 22,
   "metadata": {
    "collapsed": true
   },
   "outputs": [],
   "source": [
    "def scores(inputs, name):\n",
    "    W, b = load_weights(name)\n",
    "    W = tf.constant(W)\n",
    "    b = tf.constant(np.reshape(b, (b.size)))\n",
    "    return tf.matmul(inputs, W) + b"
   ]
  },
  {
   "cell_type": "code",
   "execution_count": 23,
   "metadata": {},
   "outputs": [],
   "source": [
    "s = scores(fc6, 'dense_2')\n",
    "with tf.variable_scope('Optimization'):\n",
    "    loss = tf.reduce_mean(tf.nn.sparse_softmax_cross_entropy_with_logits(labels=y, logits=s))    \n",
    "    train_step = tf.train.AdamOptimizer(learning_rate=0.001).minimize(loss) "
   ]
  },
  {
   "cell_type": "code",
   "execution_count": 24,
   "metadata": {},
   "outputs": [
    {
     "ename": "NameError",
     "evalue": "name 'x_train' is not defined",
     "output_type": "error",
     "traceback": [
      "\u001b[0;31m---------------------------------------------------------------------------\u001b[0m",
      "\u001b[0;31mNameError\u001b[0m                                 Traceback (most recent call last)",
      "\u001b[0;32m<ipython-input-24-c41f8546b001>\u001b[0m in \u001b[0;36m<module>\u001b[0;34m()\u001b[0m\n\u001b[1;32m      2\u001b[0m \u001b[0mbatch_size\u001b[0m\u001b[0;34m=\u001b[0m \u001b[0;36m256\u001b[0m\u001b[0;34m\u001b[0m\u001b[0m\n\u001b[1;32m      3\u001b[0m \u001b[0;34m\u001b[0m\u001b[0m\n\u001b[0;32m----> 4\u001b[0;31m \u001b[0mtraining_size\u001b[0m \u001b[0;34m=\u001b[0m \u001b[0mx_train\u001b[0m\u001b[0;34m.\u001b[0m\u001b[0mshape\u001b[0m\u001b[0;34m[\u001b[0m\u001b[0;36m0\u001b[0m\u001b[0;34m]\u001b[0m\u001b[0;34m\u001b[0m\u001b[0m\n\u001b[0m\u001b[1;32m      5\u001b[0m \u001b[0;34m\u001b[0m\u001b[0m\n\u001b[1;32m      6\u001b[0m \u001b[0;32mfor\u001b[0m \u001b[0mj\u001b[0m \u001b[0;32min\u001b[0m \u001b[0mrange\u001b[0m\u001b[0;34m(\u001b[0m\u001b[0mn_epochs\u001b[0m\u001b[0;34m)\u001b[0m\u001b[0;34m:\u001b[0m\u001b[0;34m\u001b[0m\u001b[0m\n",
      "\u001b[0;31mNameError\u001b[0m: name 'x_train' is not defined"
     ]
    }
   ],
   "source": [
    "n_epochs = 1000\n",
    "batch_size= 256\n",
    "\n",
    "training_size = x_train.shape[0]\n",
    "\n",
    "for j in range(n_epochs):\n",
    "    perm = np.random.permutation(training_size) \n",
    "    for i in range(0, training_size, batch_size):\n",
    "        idx = perm[i:i+batch_size]  \n",
    "        x_batch = x_train[idx]\n",
    "        y_batch = y_train[idx]\n",
    "        sess.run(train_step, feed_dict={x:x_batch, y:y_batch})\n",
    "    if j%50 == 49 or j==0:\n",
    "        l, r, a = sess.run([loss, regularizer, accuracy], feed_dict={x:x_train, y:y_train})\n",
    "        print(\"epoch %6d, loss=%6f, regularizer=%0.4f, accuracy=%.2f%%\" % (j+1, l, round(r, 4), 100*round(a, 4)))"
   ]
  }
 ],
 "metadata": {
  "kernelspec": {
   "display_name": "Python 3",
   "language": "python",
   "name": "python3"
  },
  "language_info": {
   "codemirror_mode": {
    "name": "ipython",
    "version": 3
   },
   "file_extension": ".py",
   "mimetype": "text/x-python",
   "name": "python",
   "nbconvert_exporter": "python",
   "pygments_lexer": "ipython3",
   "version": "3.6.1"
  }
 },
 "nbformat": 4,
 "nbformat_minor": 2
}
