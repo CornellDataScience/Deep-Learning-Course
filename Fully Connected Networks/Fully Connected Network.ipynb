{
 "cells": [
  {
   "cell_type": "markdown",
   "metadata": {},
   "source": [
    "# Fully Connected Neural Networks"
   ]
  },
  {
   "cell_type": "code",
   "execution_count": 1,
   "metadata": {
    "collapsed": true
   },
   "outputs": [],
   "source": [
    "from __future__ import absolute_import\n",
    "from __future__ import division\n",
    "from __future__ import print_function"
   ]
  },
  {
   "cell_type": "markdown",
   "metadata": {},
   "source": [
    "The above code is for compatibility with Python 2. If you are using Python 3 (recommended), you may ignore this."
   ]
  },
  {
   "cell_type": "code",
   "execution_count": 2,
   "metadata": {
    "collapsed": true
   },
   "outputs": [],
   "source": [
    "import tensorflow as tf\n",
    "import numpy as np"
   ]
  },
  {
   "cell_type": "markdown",
   "metadata": {},
   "source": [
    "We must import the TensorFlow and numpy packages to be able to use them! We use the prefix \"tf\" to avoid having to type out the full name every time we want to use a TensorFlow command. Likewise, we prefix all numpy commands with \"np\"."
   ]
  },
  {
   "cell_type": "code",
   "execution_count": 3,
   "metadata": {
    "collapsed": true
   },
   "outputs": [],
   "source": [
    "seed = 1337\n",
    "tf.set_random_seed(seed)  # Tell TensorFlow to use our seed\n",
    "np.random.seed(seed)      # Tell NumPy to use our seed"
   ]
  },
  {
   "cell_type": "markdown",
   "metadata": {},
   "source": [
    "## Loading CIFAR-10 Dataset"
   ]
  },
  {
   "cell_type": "code",
   "execution_count": 4,
   "metadata": {
    "collapsed": true
   },
   "outputs": [],
   "source": [
    "import sys\n",
    "def unpickle(file):\n",
    "    import pickle\n",
    "    with open(file, 'rb') as fo:\n",
    "        if sys.version[0] == '3':\n",
    "            dict = pickle.load(fo, encoding='bytes')\n",
    "        elif sys.version[0] == '2':\n",
    "            dict = pickle.load(fo)\n",
    "    return dict"
   ]
  },
  {
   "cell_type": "markdown",
   "metadata": {},
   "source": [
    "This is a helper function that will allow us to load the data."
   ]
  },
  {
   "cell_type": "code",
   "execution_count": 5,
   "metadata": {},
   "outputs": [
    {
     "data": {
      "text/plain": [
       "dict_keys([b'batch_label', b'labels', b'data', b'filenames'])"
      ]
     },
     "execution_count": 5,
     "metadata": {},
     "output_type": "execute_result"
    }
   ],
   "source": [
    "dataset = unpickle('../cifar-10-data')\n",
    "dataset.keys()"
   ]
  },
  {
   "cell_type": "markdown",
   "metadata": {},
   "source": [
    "We see that the data is stored in a dictionary (a data structure in Python). We are interested in the labels and the data."
   ]
  },
  {
   "cell_type": "code",
   "execution_count": 6,
   "metadata": {},
   "outputs": [
    {
     "data": {
      "text/plain": [
       "(10000, 3072)"
      ]
     },
     "execution_count": 6,
     "metadata": {},
     "output_type": "execute_result"
    }
   ],
   "source": [
    "dataset[b'data'].shape"
   ]
  },
  {
   "cell_type": "markdown",
   "metadata": {},
   "source": [
    "There are 10000 images in this \"batch\", and each is stored in an array of length 3072. Why is this? Hint: The images are 32x32  \n",
    "Let's plot a random image!"
   ]
  },
  {
   "cell_type": "code",
   "execution_count": 7,
   "metadata": {
    "collapsed": true
   },
   "outputs": [],
   "source": [
    "import matplotlib.pyplot as plt\n",
    "%matplotlib inline"
   ]
  },
  {
   "cell_type": "code",
   "execution_count": 8,
   "metadata": {},
   "outputs": [
    {
     "data": {
      "image/png": "[encoded data removed]",
      "text/plain": [
       "<matplotlib.figure.Figure at 0x7f3fdc2b1da0>"
      ]
     },
     "metadata": {},
     "output_type": "display_data"
    }
   ],
   "source": [
    "# pick a random number between 0 and 9999\n",
    "random = 12\n",
    "img = dataset[b'data'][random].reshape(3,32,32).transpose(1,2,0)\n",
    "plt.imshow(img);"
   ]
  },
  {
   "cell_type": "code",
   "execution_count": 9,
   "metadata": {},
   "outputs": [
    {
     "name": "stdout",
     "output_type": "stream",
     "text": [
      "[6, 9, 9, 4, 1, 1, 2, 7, 8, 3, 4, 7, 7, 2, 9, 9, 9, 3, 2, 6, 4, 3, 6, 6, 2, 6, 3, 5, 4, 0, 0, 9, 1, 3, 4, 0, 3, 7, 3, 3, 5, 2, 2, 7, 1, 1, 1, 2, 2, 0, 9, 5, 7, 9, 2, 2, 5, 2, 4, 3, 1, 1, 8, 2, 1, 1, 4, 9, 7, 8, 5, 9, 6, 7, 3, 1, 9, 0, 3, 1, 3, 5, 4, 5, 7, 7, 4, 7, 9, 4, 2, 3, 8, 0, 1, 6, 1, 1, 4, 1]\n"
     ]
    }
   ],
   "source": [
    "print(dataset[b'labels'][:100])"
   ]
  },
  {
   "cell_type": "markdown",
   "metadata": {},
   "source": [
    "These are the first 100 labels - they are stored as a list of numbers between 0 and 9, where each number corresponds to a class."
   ]
  },
  {
   "cell_type": "code",
   "execution_count": 10,
   "metadata": {},
   "outputs": [
    {
     "data": {
      "text/plain": [
       "'horse'"
      ]
     },
     "execution_count": 10,
     "metadata": {},
     "output_type": "execute_result"
    }
   ],
   "source": [
    "label_names = ['airplane','automobile','bird','cat','deer','dog','frog','horse','ship','truck']\n",
    "label_names[dataset[b'labels'][random]]"
   ]
  },
  {
   "cell_type": "markdown",
   "metadata": {},
   "source": [
    "Hence, the selected label is a horse.\n",
    "\n",
    "We now need to break the dataset up into training and testing sets, so lets do that using the handy `train_test_split()` function from scikit-learn. First we turn the dataset into `x_data` for the actual images and `y_data` for the corresponding labels. Then we randomly split them into training and testing sets."
   ]
  },
  {
   "cell_type": "code",
   "execution_count": 11,
   "metadata": {},
   "outputs": [
    {
     "name": "stdout",
     "output_type": "stream",
     "text": [
      "x_data shape: (10000, 3072)\n",
      "y_data shape: (10000,)\n"
     ]
    }
   ],
   "source": [
    "x_data = np.array(dataset[b'data'])    # The training images\n",
    "y_data = np.array(dataset[b'labels'])  # The labels for the training images\n",
    "print(\"x_data shape:\", x_data.shape)\n",
    "print(\"y_data shape:\", y_data.shape)"
   ]
  },
  {
   "cell_type": "code",
   "execution_count": 12,
   "metadata": {},
   "outputs": [
    {
     "name": "stdout",
     "output_type": "stream",
     "text": [
      "x_train shape: (9000, 3072)\n",
      "x_test shape: (1000, 3072)\n",
      "\n",
      "y_train shape: (9000,)\n",
      "y_test shape: (1000,)\n"
     ]
    }
   ],
   "source": [
    "n_samples = x_data.shape[0]\n",
    "indices = np.random.permutation(n_samples)\n",
    "training_idx, test_idx = indices[:int(0.9*n_samples)], indices[int(0.9*n_samples):]\n",
    "\n",
    "x_train, x_test = x_data[training_idx,:], x_data[test_idx,:]\n",
    "y_train, y_test = y_data[training_idx], y_data[test_idx]\n",
    "\n",
    "print(\"x_train shape:\", x_train.shape)\n",
    "print(\"x_test shape:\", x_test.shape)\n",
    "print()\n",
    "print(\"y_train shape:\", y_train.shape)\n",
    "print(\"y_test shape:\", y_test.shape)"
   ]
  },
  {
   "cell_type": "markdown",
   "metadata": {},
   "source": [
    "We now have separate samples and labels both for training and for testing.\n",
    "\n",
    "## Making the Fully Connected Neural Network\n",
    "\n",
    "We know that the CIFAR-10 dataset is composed of 32x32 pictures that are in color (red, green, and blue color channels).  This means that images are in $\\mathbb{R}^{32*32*3} = \\mathbb{R}^{3072}$. Because there are 10 classes, the predictions are $\\hat{y} \\in \\mathbb{R}^{10}$."
   ]
  },
  {
   "cell_type": "code",
   "execution_count": 13,
   "metadata": {
    "collapsed": true
   },
   "outputs": [],
   "source": [
    "input_length = 3072\n",
    "num_classes = 10"
   ]
  },
  {
   "cell_type": "markdown",
   "metadata": {},
   "source": [
    "Now, we need to create the fully connected layers. To make this easier, we will first make a helper function to create a fully connected layer.\n",
    "\n",
    "Notice that we use `tf.variable_scope()` and `tf.get_variable()` instead of `tf.Variable()`. We use `tf.variable_scope()` to group together all the tensors and variables we define inside it. This does a couple of nice things:\n",
    "\n",
    "- Anything we define inside the variable scope will have its name prefixed with the name of the scope\n",
    "- If we try to display the graph, it will look much more organized (remember the tensorflow tutorial?)\n",
    "- We can control whether we reuse variables or not (more on that in a few sentences)\n",
    "\n",
    "Using `tf.get_variable()` will create a `tf.Variable` if the variable does not exist yet. If the variable already exists and the variable scope is in reuse mode, it will return the original variable without creating a new one. If not in reuse mode, it will throw an error, preventing us from accidentally duplicating variables\n",
    "For these reasons using `tf.variable_scope()` is a great organizational tool and helps us avoid making mistakes by preventing accidental variable duplication. If we had used `tf.Variable()`, it would ignore these duplication rules and always make a new variable, adding a suffix onto the name if it already existed.\n",
    "\n",
    "**In summary: Always keep your code organized and safe from sneaky bugs by using `tf.variable_scope()`, and always use `tf.get_variable()` instead of `tf.Variable()`.**"
   ]
  },
  {
   "cell_type": "code",
   "execution_count": 14,
   "metadata": {
    "collapsed": true
   },
   "outputs": [],
   "source": [
    "def fc(input_tensor, output_features, name='FC', func=tf.nn.relu):\n",
    "    \"\"\"Creates a Fully Connected Layer\n",
    "\n",
    "    Args:\n",
    "        input_tensor:  Tensor of shape `[batch, features]` that this FC layer uses as its input features.\n",
    "        output_features:  The number of features that the layer will output.\n",
    "        name:  The name of the Fully Connected layer. Will use this to define the `tf.variable_scope()`.\n",
    "        func:  The activation function to use. If `None`, uses ReLU.\n",
    "    \n",
    "    Returns:\n",
    "        A tuple of (activations, weights, bias). The weights and bias are returned so that a regularizer\n",
    "        can operate directly on them if needed. The activation Tensor represents the output feature \n",
    "        activations. Will have shape `[None, output_features]`.\n",
    "    \"\"\"\n",
    "    input_features = int(input_tensor.shape[1])  # Get the number of features for the input tensor\n",
    "    with tf.variable_scope(name):\n",
    "        w = tf.get_variable('W', initializer=tf.truncated_normal(\n",
    "            shape=[input_features, output_features],\n",
    "            stddev=np.sqrt(2/(input_features*output_features))))  # Set stddev of random distribution for weights\n",
    "        b = tf.get_variable('B', initializer=tf.zeros([output_features]))\n",
    "        \n",
    "        return func(tf.matmul(input_tensor, w) + b, name='Activations'), w, b"
   ]
  },
  {
   "cell_type": "markdown",
   "metadata": {},
   "source": [
    "Here, we declare all our inputs, outputs, and parameters."
   ]
  },
  {
   "cell_type": "code",
   "execution_count": 15,
   "metadata": {
    "collapsed": true
   },
   "outputs": [],
   "source": [
    "tf.reset_default_graph()  # Clear the graph to avoid errors from reusing variables\n",
    "\n",
    "with tf.variable_scope('Inputs'):\n",
    "    x = tf.placeholder(tf.float32, [None, input_length], name='x')\n",
    "    y = tf.placeholder(tf.int64, [None,], name='y')  # Last time we one-hot encoded our labels. Now we won't.\n",
    "\n",
    "with tf.variable_scope('Hidden-Layers'):\n",
    "    hidden_features = 1024\n",
    "    hidden1, w1, _ = fc(x, hidden_features, 'FC1')\n",
    "    hidden2, w2, _ = fc(hidden1, hidden_features, 'FC2')\n",
    "    hidden3, w3, _ = fc(hidden2, hidden_features, 'FC3')\n",
    "    \n",
    "with tf.variable_scope('Softmax'):\n",
    "    w = tf.get_variable('W', initializer=tf.truncated_normal(\n",
    "        shape=[hidden_features, num_classes],\n",
    "        stddev=np.sqrt(1/(hidden_features*num_classes)))) # Set stddev of random distribution for weights\n",
    "    b = tf.get_variable('B', initializer=tf.zeros([num_classes]))\n",
    "    \n",
    "    scores = tf.matmul(hidden3, w) + b\n",
    "    # Predicted probability vectors for each sample in the batch, shape = `[None, 10]`\n",
    "    pred = tf.nn.softmax(scores)\n",
    "\n",
    "with tf.variable_scope('Optimization'):\n",
    "    # Last time we used the regular cross entropy function, but this time we use the \"sparse\" version. \n",
    "    # That's because this version takes care of turning the labels into one hot encodings for us!\n",
    "    loss = tf.reduce_mean(tf.nn.sparse_softmax_cross_entropy_with_logits(labels=y, logits=scores))\n",
    "    \n",
    "    regularizer = (tf.nn.l2_loss(w1) + tf.nn.l2_loss(w2) + tf.nn.l2_loss(w3) + tf.nn.l2_loss(w))  # L2 Regularizer\n",
    "    lmbda = 0.1412  # Regularizer coefficient\n",
    "    loss += lmbda*regularizer  # Add regularization penalty to the loss function\n",
    "    \n",
    "    correct = tf.equal(tf.argmax(pred, axis=1), y)           # boolean 1-D Tensor of if pred was correct\n",
    "    accuracy = tf.reduce_mean(tf.cast(correct, tf.float32))  # scalar (0-D) Tensor of the average accuracy\n",
    "    \n",
    "    train_step = tf.train.AdamOptimizer(learning_rate=0.000005).minimize(loss)  # Op that steps loss towards minimum\n",
    "    \n",
    "init = tf.global_variables_initializer()  # Op that initializes variables"
   ]
  },
  {
   "cell_type": "markdown",
   "metadata": {},
   "source": [
    "## Training the Network\n",
    "We already split that dataset into training and testing sets. Now we just need to feed the training set into the model and perform gradient descent. Because the training set is large (9000 images), we will feed in only a subset of the training set at a time for each batch.\n",
    "\n",
    "*Side note: When using the whole dataset in a batch, it is called \"Gradient Descent\". When using a subset of the dataset in the batch, this is called \"Mini-Batch Gradient Descent\". When the batch size is set to 1, it is called \"Stochastic Gradient Descent\". People mix up these terms, so if you hear someone saying \"use SGD\", they probably are referring to Mini-Batch Gradient Descent rather than Stochastic Gradient Descent. Even in academic papers, people confuse these!*"
   ]
  },
  {
   "cell_type": "code",
   "execution_count": null,
   "metadata": {
    "collapsed": true
   },
   "outputs": [],
   "source": [
    "sess = tf.InteractiveSession()\n",
    "sess.run(init)  # Initialize all `tf.Variable` objects"
   ]
  },
  {
   "cell_type": "code",
   "execution_count": null,
   "metadata": {
    "scrolled": false
   },
   "outputs": [
    {
     "name": "stdout",
     "output_type": "stream",
     "text": [
      "epoch      1, loss=2.596647, regularizer=2.1253, accuracy=10.56%\n",
      "epoch     10, loss=2.117517, regularizer=1.1166, accuracy=26.32%\n",
      "epoch     20, loss=2.003032, regularizer=1.0295, accuracy=31.42%\n",
      "epoch     30, loss=1.948051, regularizer=0.9987, accuracy=33.70%\n",
      "epoch     40, loss=1.913923, regularizer=0.9929, accuracy=34.86%\n",
      "epoch     50, loss=1.882845, regularizer=0.9977, accuracy=36.62%\n"
     ]
    }
   ],
   "source": [
    "model_name = 'fcn-trained.ckpt'\n",
    "\n",
    "n_epochs = 1000     # The number of full passes through the dataset before we quit training\n",
    "batch_size= 256  # Feed in only 256 images in a single batch instead of all 9,000\n",
    "\n",
    "training_size = x_train.shape[0]\n",
    "\n",
    "saver = tf.train.Saver() # Allows us to save and restore a model\n",
    "#saver.restore(sess, model_name)\n",
    "\n",
    "\n",
    "for j in range(n_epochs):\n",
    "    perm = np.random.permutation(training_size)  # Every epoch, get a new set of batches\n",
    "    for i in range(0, training_size, batch_size):\n",
    "        idx = perm[i:i+batch_size]  # Select indices for batch\n",
    "        x_batch = x_train[idx]\n",
    "        y_batch = y_train[idx]\n",
    "        sess.run(train_step, feed_dict={x:x_batch, y:y_batch})\n",
    "    if j%10 == 9 or j==0:\n",
    "        l, r, a = sess.run([loss, regularizer, accuracy], feed_dict={x:x_train, y:y_train})\n",
    "        print(\"epoch %6d, loss=%6f, regularizer=%0.4f, accuracy=%.2f%%\" % (j+1, l, round(r, 4), 100*round(a, 4)))"
   ]
  },
  {
   "cell_type": "code",
   "execution_count": null,
   "metadata": {
    "collapsed": true
   },
   "outputs": [],
   "source": [
    "saver.save(sess, model_name)  # Save the trained model in the file specified by `model_name`"
   ]
  },
  {
   "cell_type": "markdown",
   "metadata": {},
   "source": [
    "Generate some predictions!"
   ]
  },
  {
   "cell_type": "code",
   "execution_count": null,
   "metadata": {},
   "outputs": [],
   "source": [
    "# pick a random image from our test set (1000 images)\n",
    "random = 65\n",
    "sample = x_test[random]\n",
    "plt.imshow(sample.reshape(3,32,32).transpose(1,2,0));\n",
    "plt.title('Selected Image')\n",
    "\n",
    "print('Prediction:', label_names[sess.run(tf.argmax(pred, axis=1), feed_dict={x:[sample]})[0]])"
   ]
  },
  {
   "cell_type": "code",
   "execution_count": null,
   "metadata": {},
   "outputs": [],
   "source": [
    "print('Training Accuracy:', sess.run(accuracy, feed_dict={x:x_train, y:y_train}))\n",
    "print('Testing Accuracy:', sess.run(accuracy, feed_dict={x:x_test, y:y_test}))"
   ]
  },
  {
   "cell_type": "markdown",
   "metadata": {
    "collapsed": true
   },
   "source": [
    "## Regularization\n",
    "When we train our model (i.e. optimize the weights), we are optimizing the performance of our model on the training data. However, we have to be careful because our model may become too specific to the training data we provided and not be able to generalize to new data in the test set that it has not seen - we refer to this as overfitting. To avoid this, we add a term to our loss function that measures the \"size\" (L2 norm) of each $W$, so that we do not get a weight matrix with extremely large values. \n",
    "\n",
    "To see why smaller weights are desirable, consider the image below:\n",
    "<img src ='https://upload.wikimedia.org/wikipedia/commons/thumb/0/02/Regularization.svg/354px-Regularization.svg.png' style=\"width: 250px;\"/>\n",
    "When we use highly complex models such as neural networks, it is desirable for the weights to be small so that the function does not fluctuate wildly with small changes to our inputs.\n"
   ]
  }
 ],
 "metadata": {
  "kernelspec": {
   "display_name": "Python 3",
   "language": "python",
   "name": "python3"
  },
  "language_info": {
   "codemirror_mode": {
    "name": "ipython",
    "version": 3
   },
   "file_extension": ".py",
   "mimetype": "text/x-python",
   "name": "python",
   "nbconvert_exporter": "python",
   "pygments_lexer": "ipython3",
   "version": "3.6.1"
  }
 },
 "nbformat": 4,
 "nbformat_minor": 2
}
