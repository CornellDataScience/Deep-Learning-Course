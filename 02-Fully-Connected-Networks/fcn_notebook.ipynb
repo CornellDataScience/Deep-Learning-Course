{
 "cells": [
  {
   "cell_type": "markdown",
   "metadata": {},
   "source": [
    "# Fully Connected Neural Networks\n",
    "\n",
    "The code below is for compatibility with Python 2. If you are using Python 3 (recommended), you may ignore this."
   ]
  },
  {
   "cell_type": "code",
   "execution_count": 1,
   "metadata": {},
   "outputs": [],
   "source": [
    "from __future__ import division\n",
    "from __future__ import print_function"
   ]
  },
  {
   "cell_type": "markdown",
   "metadata": {},
   "source": [
    "Here, we import various Python packages that we will be using: TensorFlow (aliased as tf) for creating neural networks, NumPy (aliased as np) for general numeric operations, and MatPlotLib's PyPlot (aliased as plt) for plotting."
   ]
  },
  {
   "cell_type": "code",
   "execution_count": 3,
   "metadata": {},
   "outputs": [],
   "source": [
    "import tensorflow as tf\n",
    "import numpy as np\n",
    "import matplotlib.pyplot as plt"
   ]
  },
  {
   "cell_type": "markdown",
   "metadata": {},
   "source": [
    "## Loading MNIST dataset\n",
    "\n",
    "The MNIST dataset is a commonly-used dataset for handwritten digit recognition, and is a mix of writing taken from American Census Bureau employees and US high school students. The dataset has been preprocessed so that each image is 28x28 pixels. Current state of the art achieves around 99.8% accuracy (certain samples are illegible even to people)."
   ]
  },
  {
   "cell_type": "code",
   "execution_count": 4,
   "metadata": {},
   "outputs": [
    {
     "name": "stdout",
     "output_type": "stream",
     "text": [
      "Extracting ../data/train-images-idx3-ubyte.gz\n",
      "Extracting ../data/train-labels-idx1-ubyte.gz\n",
      "Extracting ../data/t10k-images-idx3-ubyte.gz\n",
      "Extracting ../data/t10k-labels-idx1-ubyte.gz\n"
     ]
    }
   ],
   "source": [
    "from tensorflow.examples.tutorials.mnist import input_data\n",
    "mnist = input_data.read_data_sets('../data/', one_hot=True)"
   ]
  },
  {
   "cell_type": "markdown",
   "metadata": {},
   "source": [
    "How is the training set formatted? Hint: the images are 28x28"
   ]
  },
  {
   "cell_type": "code",
   "execution_count": 5,
   "metadata": {},
   "outputs": [
    {
     "data": {
      "text/plain": [
       "(55000, 784)"
      ]
     },
     "execution_count": 5,
     "metadata": {},
     "output_type": "execute_result"
    }
   ],
   "source": [
    "mnist.train.images.shape"
   ]
  },
  {
   "cell_type": "code",
   "execution_count": 6,
   "metadata": {},
   "outputs": [],
   "source": [
    "def plot_digits(*args):\n",
    "    indices = np.array(list(args))\n",
    "    n = len(indices)\n",
    "    fig, axes =  plt.subplots(ncols=n, figsize=(n, 1))\n",
    "    for i in range(n):\n",
    "        ax = axes.flatten()[i]\n",
    "        img = mnist.train.images[indices[i]].reshape(28, 28)\n",
    "        label = np.argmax(mnist.train.labels[indices[i]])\n",
    "        ax.set_title('Label: {}'.format(label))\n",
    "        ax.imshow(img, cmap='gray')\n",
    "        ax.axis('off')\n",
    "    plt.show()"
   ]
  },
  {
   "cell_type": "markdown",
   "metadata": {},
   "source": [
    "Pick some random numbers between 0 and 44999 (remember that list/arrays in Python are 0-indexed!) to see what the images look like. Can you find some outliers that are difficult even for humans?"
   ]
  },
  {
   "cell_type": "code",
   "execution_count": 7,
   "metadata": {},
   "outputs": [
    {
     "data": {
      "image/png": "[encoded data removed]",
      "text/plain": [
       "<matplotlib.figure.Figure at 0x7f8811824278>"
      ]
     },
     "metadata": {},
     "output_type": "display_data"
    }
   ],
   "source": [
    "plot_digits(12, 28, 42, 558, 78, 12333, 13)"
   ]
  },
  {
   "cell_type": "markdown",
   "metadata": {},
   "source": [
    "Recall that for a machine learning algorithm to work, we need **labelled** data: here, the labels represent the digit that the image actually corresponds to. How is this data stored?"
   ]
  },
  {
   "cell_type": "code",
   "execution_count": 8,
   "metadata": {},
   "outputs": [
    {
     "data": {
      "text/plain": [
       "(55000, 10)"
      ]
     },
     "execution_count": 8,
     "metadata": {},
     "output_type": "execute_result"
    }
   ],
   "source": [
    "mnist.train.labels.shape"
   ]
  },
  {
   "cell_type": "markdown",
   "metadata": {},
   "source": [
    "Here are the first 5 labels - what is the format that is being used?"
   ]
  },
  {
   "cell_type": "code",
   "execution_count": 9,
   "metadata": {},
   "outputs": [
    {
     "data": {
      "text/plain": [
       "array([[0., 0., 0., 0., 0., 0., 0., 1., 0., 0.],\n",
       "       [0., 0., 0., 1., 0., 0., 0., 0., 0., 0.],\n",
       "       [0., 0., 0., 0., 1., 0., 0., 0., 0., 0.],\n",
       "       [0., 0., 0., 0., 0., 0., 1., 0., 0., 0.],\n",
       "       [0., 1., 0., 0., 0., 0., 0., 0., 0., 0.]])"
      ]
     },
     "execution_count": 9,
     "metadata": {},
     "output_type": "execute_result"
    }
   ],
   "source": [
    "mnist.train.labels[:5]"
   ]
  },
  {
   "cell_type": "code",
   "execution_count": 10,
   "metadata": {},
   "outputs": [
    {
     "data": {
      "image/png": "[encoded data removed]",
      "text/plain": [
       "<matplotlib.figure.Figure at 0x7f8811824a58>"
      ]
     },
     "metadata": {},
     "output_type": "display_data"
    }
   ],
   "source": [
    "plot_digits(0, 1, 2, 3, 4)"
   ]
  },
  {
   "cell_type": "markdown",
   "metadata": {},
   "source": [
    "One-hot encoding is a key concept when dealing with categorical variables, and there are many interpretations. One is that if we were to store the actual number represented, what do we do if our model predicts a value of 3.5? As far as writing digits goes, there is no such thing as something halfway between a 3 and a 4. In addition, it makes no sense to say that the difference between a 2 and 6 is 4 times as large as the difference between a 2 and 3. Another interpretation is that the one-hot encoding represents a probability distrbution: each digit is a possible answer that is disjoint from all others - the labels represent our 100% confidence in what we know the answer to be. "
   ]
  },
  {
   "cell_type": "code",
   "execution_count": 11,
   "metadata": {},
   "outputs": [],
   "source": [
    "x_train = mnist.train.images\n",
    "y_train = mnist.train.labels\n",
    "\n",
    "x_test = mnist.test.images\n",
    "y_test = mnist.test.labels"
   ]
  },
  {
   "cell_type": "markdown",
   "metadata": {},
   "source": [
    "The dataset has been split into training and test sets at a 5.5:1 ratio. It is common practice to reserve 10-30% of the data as test data."
   ]
  },
  {
   "cell_type": "code",
   "execution_count": 12,
   "metadata": {},
   "outputs": [
    {
     "name": "stdout",
     "output_type": "stream",
     "text": [
      "(55000, 784)\n",
      "(10000, 784)\n"
     ]
    }
   ],
   "source": [
    "print(x_train.shape)\n",
    "print(x_test.shape)"
   ]
  },
  {
   "cell_type": "markdown",
   "metadata": {},
   "source": [
    "## Creating a Fully Connected Neural Network\n",
    "\n",
    "To make things easier, we create two helper functions that will create the weights and biases for each layer. Notice that we use `tf.variable_scope()` and `tf.get_variable()` instead of `tf.Variable()`. We use `tf.variable_scope()` to group together all the tensors and variables we define inside it. This does a couple of nice things:\n",
    "\n",
    "- Anything we define inside the variable scope will have its name prefixed with the name of the scope\n",
    "- If we try to display the graph, it will look much more organized (remember the tensorflow tutorial?)\n",
    "- We can control whether we reuse variables or not (more on that in a few sentences)\n",
    "\n",
    "Using `tf.get_variable()` will create a `tf.Variable` if the variable does not exist yet. If the variable already exists and the variable scope is in reuse mode, it will return the original variable without creating a new one. If not in reuse mode, it will throw an error, preventing us from accidentally duplicating variables\n",
    "For these reasons using `tf.variable_scope()` is a great organizational tool and helps us avoid making mistakes by preventing accidental variable duplication. If we had used `tf.Variable()`, it would ignore these duplication rules and always make a new variable, adding a suffix onto the name if it already existed.\n",
    "\n",
    "**In summary: Always keep your code organized and safe from sneaky bugs by using `tf.variable_scope()`, and use `tf.get_variable()` instead of `tf.Variable()`.**"
   ]
  },
  {
   "cell_type": "code",
   "execution_count": 13,
   "metadata": {},
   "outputs": [],
   "source": [
    "def weight_variable(shape):\n",
    "    w_init = tf.truncated_normal(shape, stddev=0.01)\n",
    "    return tf.get_variable('w', initializer=w_init)\n",
    "\n",
    "\n",
    "def bias_variable(shape):\n",
    "    b_init = tf.constant(0.0, shape=shape)\n",
    "    return tf.get_variable('b', initializer=b_init)"
   ]
  },
  {
   "cell_type": "code",
   "execution_count": 14,
   "metadata": {},
   "outputs": [],
   "source": [
    "with tf.variable_scope('inputs'):\n",
    "    x = tf.placeholder(tf.float32, [None, 784])\n",
    "    y = tf.placeholder(tf.float32, [None, 10])\n",
    "\n",
    "with tf.variable_scope('fc1'):\n",
    "    W_fc1 = weight_variable([784, 1200])\n",
    "    b_fc1 = bias_variable([1200])\n",
    "    h_fc1 = tf.nn.relu(tf.matmul(x, W_fc1) + b_fc1)\n",
    "\n",
    "with tf.variable_scope('fc2'):\n",
    "    W_fc2 = weight_variable([1200, 1200])\n",
    "    b_fc2 = bias_variable([1200])\n",
    "    h_fc2 = tf.nn.relu(tf.matmul(h_fc1, W_fc2) + b_fc2)\n",
    "\n",
    "with tf.variable_scope('softmax'):\n",
    "    W_fc3 = weight_variable([1200, 10])\n",
    "    b_fc3 = bias_variable([10])\n",
    "    preds = tf.nn.softmax(tf.matmul(h_fc2, W_fc3) + b_fc3)"
   ]
  },
  {
   "cell_type": "code",
   "execution_count": 15,
   "metadata": {},
   "outputs": [],
   "source": [
    "with tf.variable_scope('optimization'):\n",
    "    # define the loss function\n",
    "    cross_entropy = tf.reduce_mean(-tf.reduce_sum(y * tf.log(preds), reduction_indices=[1]))\n",
    "    \n",
    "    # define training step and accuracy\n",
    "    train_step = tf.train.AdamOptimizer(learning_rate=0.00001).minimize(cross_entropy)\n",
    "    correct = tf.equal(tf.argmax(preds, 1), tf.argmax(y, 1))\n",
    "    accuracy = tf.reduce_mean(tf.cast(correct, tf.float32))"
   ]
  },
  {
   "cell_type": "code",
   "execution_count": 16,
   "metadata": {},
   "outputs": [],
   "source": [
    "init = tf.global_variables_initializer()\n",
    "sess = tf.InteractiveSession()\n",
    "sess.run(init)"
   ]
  },
  {
   "cell_type": "code",
   "execution_count": 17,
   "metadata": {},
   "outputs": [],
   "source": [
    "n_epochs = 1000\n",
    "batch_size = 16"
   ]
  },
  {
   "cell_type": "markdown",
   "metadata": {},
   "source": [
    "## Training the Network\n",
    "\n",
    "Now we just need to feed the training set into the model and perform gradient descent. Because the training set is large (55000 images), we will feed in only a subset of the training set at a time for each batch."
   ]
  },
  {
   "cell_type": "code",
   "execution_count": null,
   "metadata": {},
   "outputs": [],
   "source": [
    "for n in range(n_epochs):\n",
    "    permutation = np.random.permutation(x_train.shape[0])\n",
    "    for i in range(0, x_train.shape[0], batch_size):\n",
    "        idx = permutation[i: i + batch_size]\n",
    "        x_batch = x_train[idx]\n",
    "        y_batch = y_train[idx]\n",
    "        sess.run(train_step, feed_dict={x: x_batch, y: y_batch})\n",
    "\n",
    "        loss, acc = sess.run([cross_entropy, accuracy], \n",
    "                             feed_dict={x: x_train, y: y_train})\n",
    "        \n",
    "        print('epoch {:2d} step {:4d} loss={:.3f} accuracy={:.2f}%'\n",
    "              .format(n, int(i/batch_size)+1, loss, 100*acc))"
   ]
  },
  {
   "cell_type": "markdown",
   "metadata": {},
   "source": [
    "## Load Pre-trained Model\n",
    "\n",
    "Since training a model from scratch takes time, we have uploaded a saved model in the `models` folder of the root directory of this repository."
   ]
  },
  {
   "cell_type": "code",
   "execution_count": 18,
   "metadata": {},
   "outputs": [
    {
     "name": "stdout",
     "output_type": "stream",
     "text": [
      "INFO:tensorflow:Restoring parameters from ../models/mnist_fc\n"
     ]
    }
   ],
   "source": [
    "tf.reset_default_graph()\n",
    "sess = tf.InteractiveSession()\n",
    "saver = tf.train.import_meta_graph('../models/mnist_fc.meta')\n",
    "saver.restore(sess, tf.train.latest_checkpoint('../models/'))\n",
    "x = tf.get_default_graph().get_tensor_by_name('inputs/Placeholder:0')\n",
    "preds = tf.get_default_graph().get_tensor_by_name('softmax/Softmax:0')\n",
    "p1 = tf.get_default_graph().get_tensor_by_name('inputs/Placeholder_2:0')\n",
    "p2 = tf.get_default_graph().get_tensor_by_name('fc1/Placeholder:0')"
   ]
  },
  {
   "cell_type": "code",
   "execution_count": 19,
   "metadata": {},
   "outputs": [],
   "source": [
    "def plot_predictions(*args):\n",
    "    indices = np.array(list(args))\n",
    "    n = len(indices)\n",
    "    fig, axes =  plt.subplots(ncols=n, figsize=(n, 1))\n",
    "    for i, idx in enumerate(indices):\n",
    "        ax = axes.flatten()[i]\n",
    "        vec = mnist.test.images[idx]\n",
    "        img = vec.reshape(28, 28)\n",
    "        args = {x: np.expand_dims(vec, 0), p1: 1.0, p2: 1.0}\n",
    "        pred = sess.run(preds, feed_dict=args)\n",
    "        ax.set_title('Pred: {}'.format(np.argmax(pred)))\n",
    "        ax.imshow(img, cmap='gray')\n",
    "        ax.axis('off')\n",
    "    plt.show()"
   ]
  },
  {
   "cell_type": "code",
   "execution_count": 20,
   "metadata": {},
   "outputs": [
    {
     "data": {
      "image/png": "[encoded data removed]",
      "text/plain": [
       "<matplotlib.figure.Figure at 0x7f88047aac50>"
      ]
     },
     "metadata": {},
     "output_type": "display_data"
    }
   ],
   "source": [
    "plot_predictions(1, 2, 3, 4)"
   ]
  }
 ],
 "metadata": {
  "kernelspec": {
   "display_name": "Python 3",
   "language": "python",
   "name": "python3"
  },
  "language_info": {
   "codemirror_mode": {
    "name": "ipython",
    "version": 3
   },
   "file_extension": ".py",
   "mimetype": "text/x-python",
   "name": "python",
   "nbconvert_exporter": "python",
   "pygments_lexer": "ipython3",
   "version": "3.6.4"
  }
 },
 "nbformat": 4,
 "nbformat_minor": 2
}
