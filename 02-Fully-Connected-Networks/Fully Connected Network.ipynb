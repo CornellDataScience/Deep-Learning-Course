{
 "cells": [
  {
   "cell_type": "markdown",
   "metadata": {},
   "source": [
    "# Fully Connected Neural Networks"
   ]
  },
  {
   "cell_type": "code",
   "execution_count": 1,
   "metadata": {
    "collapsed": true
   },
   "outputs": [],
   "source": [
    "from __future__ import absolute_import\n",
    "from __future__ import division\n",
    "from __future__ import print_function"
   ]
  },
  {
   "cell_type": "markdown",
   "metadata": {},
   "source": [
    "The above code is for compatibility with Python 2. If you are using Python 3 (recommended), you may ignore this."
   ]
  },
  {
   "cell_type": "code",
   "execution_count": 2,
   "metadata": {
    "collapsed": true
   },
   "outputs": [],
   "source": [
    "import tensorflow as tf\n",
    "import numpy as np"
   ]
  },
  {
   "cell_type": "markdown",
   "metadata": {},
   "source": [
    "We must import the TensorFlow and numpy packages to be able to use them! We use the prefix \"tf\" to avoid having to type out the full name every time we want to use a TensorFlow command. Likewise, we prefix all numpy commands with \"np\"."
   ]
  },
  {
   "cell_type": "code",
   "execution_count": 3,
   "metadata": {
    "collapsed": true
   },
   "outputs": [],
   "source": [
    "seed = 1337\n",
    "tf.set_random_seed(seed)  # Tell TensorFlow to use our seed\n",
    "np.random.seed(seed)      # Tell NumPy to use our seed"
   ]
  },
  {
   "cell_type": "markdown",
   "metadata": {},
   "source": [
    "## Loading CIFAR-10 Dataset"
   ]
  },
  {
   "cell_type": "code",
   "execution_count": 4,
   "metadata": {
    "collapsed": true
   },
   "outputs": [],
   "source": [
    "import sys\n",
    "def unpickle(file):\n",
    "    import pickle\n",
    "    with open(file, 'rb') as fo:\n",
    "        if sys.version[0] == '3':\n",
    "            dict = pickle.load(fo, encoding='bytes')\n",
    "        elif sys.version[0] == '2':\n",
    "            dict = pickle.load(fo)\n",
    "    return dict"
   ]
  },
  {
   "cell_type": "markdown",
   "metadata": {},
   "source": [
    "This is a helper function that will allow us to load the data."
   ]
  },
  {
   "cell_type": "code",
   "execution_count": 5,
   "metadata": {},
   "outputs": [
    {
     "data": {
      "text/plain": [
       "dict_keys([b'batch_label', b'labels', b'data', b'filenames'])"
      ]
     },
     "execution_count": 5,
     "metadata": {},
     "output_type": "execute_result"
    }
   ],
   "source": [
    "dataset = unpickle('../cifar-10-data')\n",
    "dataset.keys()"
   ]
  },
  {
   "cell_type": "markdown",
   "metadata": {},
   "source": [
    "We see that the data is stored in a dictionary (a data structure in Python). We are interested in the labels and the data."
   ]
  },
  {
   "cell_type": "code",
   "execution_count": 6,
   "metadata": {},
   "outputs": [
    {
     "data": {
      "text/plain": [
       "(10000, 3072)"
      ]
     },
     "execution_count": 6,
     "metadata": {},
     "output_type": "execute_result"
    }
   ],
   "source": [
    "dataset[b'data'].shape"
   ]
  },
  {
   "cell_type": "markdown",
   "metadata": {},
   "source": [
    "There are 10000 images in this \"batch\", and each is stored in an array of length 3072. Why is this? Hint: The images are 32x32  \n",
    "Let's plot a random image!"
   ]
  },
  {
   "cell_type": "code",
   "execution_count": 7,
   "metadata": {
    "collapsed": true
   },
   "outputs": [],
   "source": [
    "import matplotlib.pyplot as plt\n",
    "%matplotlib inline"
   ]
  },
  {
   "cell_type": "code",
   "execution_count": 8,
   "metadata": {},
   "outputs": [
    {
     "data": {
      "image/png": "[encoded data removed]",
      "text/plain": [
       "<matplotlib.figure.Figure at 0x7f3fdc2b1da0>"
      ]
     },
     "metadata": {},
     "output_type": "display_data"
    }
   ],
   "source": [
    "# pick a random number between 0 and 9999\n",
    "random = 12\n",
    "img = dataset[b'data'][random].reshape(3,32,32).transpose(1,2,0)\n",
    "plt.imshow(img);"
   ]
  },
  {
   "cell_type": "code",
   "execution_count": 9,
   "metadata": {},
   "outputs": [
    {
     "name": "stdout",
     "output_type": "stream",
     "text": [
      "[6, 9, 9, 4, 1, 1, 2, 7, 8, 3, 4, 7, 7, 2, 9, 9, 9, 3, 2, 6, 4, 3, 6, 6, 2, 6, 3, 5, 4, 0, 0, 9, 1, 3, 4, 0, 3, 7, 3, 3, 5, 2, 2, 7, 1, 1, 1, 2, 2, 0, 9, 5, 7, 9, 2, 2, 5, 2, 4, 3, 1, 1, 8, 2, 1, 1, 4, 9, 7, 8, 5, 9, 6, 7, 3, 1, 9, 0, 3, 1, 3, 5, 4, 5, 7, 7, 4, 7, 9, 4, 2, 3, 8, 0, 1, 6, 1, 1, 4, 1]\n"
     ]
    }
   ],
   "source": [
    "print(dataset[b'labels'][:100])"
   ]
  },
  {
   "cell_type": "markdown",
   "metadata": {},
   "source": [
    "These are the first 100 labels - they are stored as a list of numbers between 0 and 9, where each number corresponds to a class."
   ]
  },
  {
   "cell_type": "code",
   "execution_count": 10,
   "metadata": {},
   "outputs": [
    {
     "data": {
      "text/plain": [
       "'horse'"
      ]
     },
     "execution_count": 10,
     "metadata": {},
     "output_type": "execute_result"
    }
   ],
   "source": [
    "label_names = ['airplane','automobile','bird','cat','deer','dog','frog','horse','ship','truck']\n",
    "label_names[dataset[b'labels'][random]]"
   ]
  },
  {
   "cell_type": "markdown",
   "metadata": {},
   "source": [
    "Hence, the selected label is a horse.\n",
    "\n",
    "We now need to break the dataset up into training and testing sets, so lets do that using the handy `train_test_split()` function from scikit-learn. First we turn the dataset into `x_data` for the actual images and `y_data` for the corresponding labels. Then we randomly split them into training and testing sets."
   ]
  },
  {
   "cell_type": "code",
   "execution_count": 11,
   "metadata": {},
   "outputs": [
    {
     "name": "stdout",
     "output_type": "stream",
     "text": [
      "x_data shape: (10000, 3072)\n",
      "y_data shape: (10000,)\n"
     ]
    }
   ],
   "source": [
    "x_data = np.array(dataset[b'data'])    # The training images\n",
    "y_data = np.array(dataset[b'labels'])  # The labels for the training images\n",
    "print(\"x_data shape:\", x_data.shape)\n",
    "print(\"y_data shape:\", y_data.shape)"
   ]
  },
  {
   "cell_type": "code",
   "execution_count": 12,
   "metadata": {},
   "outputs": [
    {
     "name": "stdout",
     "output_type": "stream",
     "text": [
      "x_train shape: (9000, 3072)\n",
      "x_test shape: (1000, 3072)\n",
      "\n",
      "y_train shape: (9000,)\n",
      "y_test shape: (1000,)\n"
     ]
    }
   ],
   "source": [
    "n_samples = x_data.shape[0]\n",
    "indices = np.random.permutation(n_samples)\n",
    "training_idx, test_idx = indices[:int(0.9*n_samples)], indices[int(0.9*n_samples):]\n",
    "\n",
    "x_train, x_test = x_data[training_idx,:], x_data[test_idx,:]\n",
    "y_train, y_test = y_data[training_idx], y_data[test_idx]\n",
    "\n",
    "print(\"x_train shape:\", x_train.shape)\n",
    "print(\"x_test shape:\", x_test.shape)\n",
    "print()\n",
    "print(\"y_train shape:\", y_train.shape)\n",
    "print(\"y_test shape:\", y_test.shape)"
   ]
  },
  {
   "cell_type": "markdown",
   "metadata": {},
   "source": [
    "We now have separate samples and labels both for training and for testing.\n",
    "\n",
    "## Making the Fully Connected Neural Network\n",
    "\n",
    "We know that the CIFAR-10 dataset is composed of 32x32 pictures that are in color (red, green, and blue color channels).  This means that images are in $\\mathbb{R}^{32*32*3} = \\mathbb{R}^{3072}$. Because there are 10 classes, the predictions are $\\hat{y} \\in \\mathbb{R}^{10}$."
   ]
  },
  {
   "cell_type": "code",
   "execution_count": 13,
   "metadata": {
    "collapsed": true
   },
   "outputs": [],
   "source": [
    "input_length = 3072\n",
    "num_classes = 10"
   ]
  },
  {
   "cell_type": "markdown",
   "metadata": {},
   "source": [
    "Now, we need to create the fully connected layers. To make this easier, we will first make a helper function to create a fully connected layer.\n",
    "\n",
    "Notice that we use `tf.variable_scope()` and `tf.get_variable()` instead of `tf.Variable()`. We use `tf.variable_scope()` to group together all the tensors and variables we define inside it. This does a couple of nice things:\n",
    "\n",
    "- Anything we define inside the variable scope will have its name prefixed with the name of the scope\n",
    "- If we try to display the graph, it will look much more organized (remember the tensorflow tutorial?)\n",
    "- We can control whether we reuse variables or not (more on that in a few sentences)\n",
    "\n",
    "Using `tf.get_variable()` will create a `tf.Variable` if the variable does not exist yet. If the variable already exists and the variable scope is in reuse mode, it will return the original variable without creating a new one. If not in reuse mode, it will throw an error, preventing us from accidentally duplicating variables\n",
    "For these reasons using `tf.variable_scope()` is a great organizational tool and helps us avoid making mistakes by preventing accidental variable duplication. If we had used `tf.Variable()`, it would ignore these duplication rules and always make a new variable, adding a suffix onto the name if it already existed.\n",
    "\n",
    "**In summary: Always keep your code organized and safe from sneaky bugs by using `tf.variable_scope()`, and always use `tf.get_variable()` instead of `tf.Variable()`.**"
   ]
  },
  {
   "cell_type": "code",
   "execution_count": 14,
   "metadata": {
    "collapsed": true
   },
   "outputs": [],
   "source": [
    "def fc(input_tensor, output_features, name='FC', func=tf.nn.relu):\n",
    "    \"\"\"Creates a Fully Connected Layer\n",
    "\n",
    "    Args:\n",
    "        input_tensor:  Tensor of shape `[batch, features]` that this FC layer uses as its input features.\n",
    "        output_features:  The number of features that the layer will output.\n",
    "        name:  The name of the Fully Connected layer. Will use this to define the `tf.variable_scope()`.\n",
    "        func:  The activation function to use. If `None`, uses ReLU.\n",
    "    \n",
    "    Returns:\n",
    "        A tuple of (activations, weights, bias). The weights and bias are returned so that a regularizer\n",
    "        can operate directly on them if needed. The activation Tensor represents the output feature \n",
    "        activations. Will have shape `[None, output_features]`.\n",
    "    \"\"\"\n",
    "    input_features = int(input_tensor.shape[1])  # Get the number of features for the input tensor\n",
    "    with tf.variable_scope(name):\n",
    "        w = tf.get_variable('W', initializer=tf.truncated_normal(\n",
    "            shape=[input_features, output_features],\n",
    "            stddev=np.sqrt(2/(input_features*output_features))))  # Set stddev of random distribution for weights\n",
    "        b = tf.get_variable('B', initializer=tf.zeros([output_features]))\n",
    "        \n",
    "        return func(tf.matmul(input_tensor, w) + b, name='Activations'), w, b"
   ]
  },
  {
   "cell_type": "markdown",
   "metadata": {},
   "source": [
    "Here, we declare all our inputs, outputs, and parameters."
   ]
  },
  {
   "cell_type": "code",
   "execution_count": 15,
   "metadata": {
    "collapsed": true
   },
   "outputs": [],
   "source": [
    "tf.reset_default_graph()  # Clear the graph to avoid errors from reusing variables\n",
    "\n",
    "with tf.variable_scope('Inputs'):\n",
    "    x = tf.placeholder(tf.float32, [None, input_length], name='x')\n",
    "    y = tf.placeholder(tf.int64, [None,], name='y')  # Last time we one-hot encoded our labels. Now we won't.\n",
    "\n",
    "with tf.variable_scope('Hidden-Layers'):\n",
    "    hidden_features = 1024\n",
    "    hidden1, w1, _ = fc(x, hidden_features, 'FC1')\n",
    "    hidden2, w2, _ = fc(hidden1, hidden_features, 'FC2')\n",
    "    hidden3, w3, _ = fc(hidden2, hidden_features, 'FC3')\n",
    "    \n",
    "with tf.variable_scope('Softmax'):\n",
    "    w = tf.get_variable('W', initializer=tf.truncated_normal(\n",
    "        shape=[hidden_features, num_classes],\n",
    "        stddev=np.sqrt(1/(hidden_features*num_classes)))) # Set stddev of random distribution for weights\n",
    "    b = tf.get_variable('B', initializer=tf.zeros([num_classes]))\n",
    "    \n",
    "    scores = tf.matmul(hidden3, w) + b\n",
    "    # Predicted probability vectors for each sample in the batch, shape = `[None, 10]`\n",
    "    pred = tf.nn.softmax(scores)\n",
    "\n",
    "with tf.variable_scope('Optimization'):\n",
    "    # Last time we used the regular cross entropy function, but this time we use the \"sparse\" version. \n",
    "    # That's because this version takes care of turning the labels into one hot encodings for us!\n",
    "    loss = tf.reduce_mean(tf.nn.sparse_softmax_cross_entropy_with_logits(labels=y, logits=scores))\n",
    "    \n",
    "    regularizer = (tf.nn.l2_loss(w1) + tf.nn.l2_loss(w2) + tf.nn.l2_loss(w3) + tf.nn.l2_loss(w))  # L2 Regularizer\n",
    "    lmbda = 0.1412  # Regularizer coefficient\n",
    "    loss += lmbda*regularizer  # Add regularization penalty to the loss function\n",
    "    \n",
    "    correct = tf.equal(tf.argmax(pred, axis=1), y)           # boolean 1-D Tensor of if pred was correct\n",
    "    accuracy = tf.reduce_mean(tf.cast(correct, tf.float32))  # scalar (0-D) Tensor of the average accuracy\n",
    "    \n",
    "    train_step = tf.train.AdamOptimizer(learning_rate=0.000005).minimize(loss)  # Op that steps loss towards minimum\n",
    "    \n",
    "init = tf.global_variables_initializer()  # Op that initializes variables"
   ]
  },
  {
   "cell_type": "markdown",
   "metadata": {},
   "source": [
    "## Training the Network\n",
    "We already split that dataset into training and testing sets. Now we just need to feed the training set into the model and perform gradient descent. Because the training set is large (9000 images), we will feed in only a subset of the training set at a time for each batch.\n",
    "\n",
    "*Side note: When using the whole dataset in a batch, it is called \"Gradient Descent\". When using a subset of the dataset in the batch, this is called \"Mini-Batch Gradient Descent\". When the batch size is set to 1, it is called \"Stochastic Gradient Descent\". People mix up these terms, so if you hear someone saying \"use SGD\", they probably are referring to Mini-Batch Gradient Descent rather than Stochastic Gradient Descent. Even in academic papers, people confuse these!*"
   ]
  },
  {
   "cell_type": "code",
   "execution_count": 16,
   "metadata": {
    "collapsed": true
   },
   "outputs": [],
   "source": [
    "sess = tf.InteractiveSession()\n",
    "sess.run(init)  # Initialize all `tf.Variable` objects"
   ]
  },
  {
   "cell_type": "code",
   "execution_count": 17,
   "metadata": {
    "scrolled": false
   },
   "outputs": [
    {
     "name": "stdout",
     "output_type": "stream",
     "text": [
      "epoch      1, loss=2.596647, regularizer=2.1253, accuracy=10.56%\n",
      "epoch     10, loss=2.117517, regularizer=1.1166, accuracy=26.32%\n",
      "epoch     20, loss=2.003032, regularizer=1.0295, accuracy=31.42%\n",
      "epoch     30, loss=1.948051, regularizer=0.9987, accuracy=33.70%\n",
      "epoch     40, loss=1.913923, regularizer=0.9929, accuracy=34.86%\n",
      "epoch     50, loss=1.882845, regularizer=0.9977, accuracy=36.62%\n",
      "epoch     60, loss=1.855216, regularizer=1.0091, accuracy=37.36%\n",
      "epoch     70, loss=1.855121, regularizer=1.0286, accuracy=36.68%\n",
      "epoch     80, loss=1.815066, regularizer=1.0568, accuracy=38.99%\n",
      "epoch     90, loss=1.794209, regularizer=1.0923, accuracy=40.18%\n",
      "epoch    100, loss=1.791372, regularizer=1.1316, accuracy=40.56%\n",
      "epoch    110, loss=1.746560, regularizer=1.1782, accuracy=42.50%\n",
      "epoch    120, loss=1.728250, regularizer=1.2243, accuracy=43.39%\n",
      "epoch    130, loss=1.734812, regularizer=1.2721, accuracy=43.28%\n",
      "epoch    140, loss=1.693120, regularizer=1.3190, accuracy=45.11%\n",
      "epoch    150, loss=1.674855, regularizer=1.3650, accuracy=45.91%\n",
      "epoch    160, loss=1.654628, regularizer=1.4103, accuracy=47.42%\n",
      "epoch    170, loss=1.649092, regularizer=1.4610, accuracy=47.81%\n",
      "epoch    180, loss=1.631470, regularizer=1.5100, accuracy=48.26%\n",
      "epoch    190, loss=1.615284, regularizer=1.5584, accuracy=48.97%\n",
      "epoch    200, loss=1.608293, regularizer=1.6042, accuracy=49.72%\n",
      "epoch    210, loss=1.583753, regularizer=1.6600, accuracy=51.23%\n",
      "epoch    220, loss=1.610756, regularizer=1.7085, accuracy=49.87%\n",
      "epoch    230, loss=1.608379, regularizer=1.7577, accuracy=50.44%\n",
      "epoch    240, loss=1.571574, regularizer=1.8053, accuracy=52.52%\n",
      "epoch    250, loss=1.543159, regularizer=1.8568, accuracy=53.84%\n",
      "epoch    260, loss=1.532293, regularizer=1.9045, accuracy=54.33%\n",
      "epoch    270, loss=1.574005, regularizer=1.9564, accuracy=52.52%\n",
      "epoch    280, loss=1.485517, regularizer=2.0101, accuracy=57.00%\n",
      "epoch    290, loss=1.468859, regularizer=2.0642, accuracy=58.00%\n",
      "epoch    300, loss=1.468335, regularizer=2.1153, accuracy=57.90%\n",
      "epoch    310, loss=1.464761, regularizer=2.1672, accuracy=58.33%\n",
      "epoch    320, loss=1.435884, regularizer=2.2193, accuracy=60.09%\n",
      "epoch    330, loss=1.429268, regularizer=2.2699, accuracy=60.79%\n",
      "epoch    340, loss=1.446182, regularizer=2.3198, accuracy=59.40%\n",
      "epoch    350, loss=1.400341, regularizer=2.3719, accuracy=62.52%\n",
      "epoch    360, loss=1.439374, regularizer=2.4189, accuracy=60.14%\n",
      "epoch    370, loss=1.411915, regularizer=2.4714, accuracy=61.74%\n",
      "epoch    380, loss=1.369357, regularizer=2.5243, accuracy=64.38%\n",
      "epoch    390, loss=1.361112, regularizer=2.5749, accuracy=65.54%\n",
      "epoch    400, loss=1.346467, regularizer=2.6230, accuracy=66.19%\n",
      "epoch    410, loss=1.349965, regularizer=2.6727, accuracy=65.74%\n",
      "epoch    420, loss=1.342918, regularizer=2.7179, accuracy=66.18%\n",
      "epoch    430, loss=1.364248, regularizer=2.7618, accuracy=65.26%\n",
      "epoch    440, loss=1.315768, regularizer=2.8026, accuracy=68.43%\n",
      "epoch    450, loss=1.340001, regularizer=2.8464, accuracy=66.61%\n",
      "epoch    460, loss=1.292249, regularizer=2.8934, accuracy=69.58%\n",
      "epoch    470, loss=1.275828, regularizer=2.9386, accuracy=70.77%\n",
      "epoch    480, loss=1.285170, regularizer=2.9844, accuracy=71.02%\n",
      "epoch    490, loss=1.260993, regularizer=3.0270, accuracy=72.31%\n",
      "epoch    500, loss=1.265827, regularizer=3.0728, accuracy=72.19%\n",
      "epoch    510, loss=1.250243, regularizer=3.1101, accuracy=72.52%\n",
      "epoch    520, loss=1.233072, regularizer=3.1504, accuracy=73.76%\n",
      "epoch    530, loss=1.224157, regularizer=3.1915, accuracy=74.03%\n",
      "epoch    540, loss=1.301090, regularizer=3.2304, accuracy=69.44%\n",
      "epoch    550, loss=1.283828, regularizer=3.2676, accuracy=71.43%\n",
      "epoch    560, loss=1.193117, regularizer=3.3075, accuracy=77.32%\n",
      "epoch    570, loss=1.186471, regularizer=3.3451, accuracy=77.17%\n",
      "epoch    580, loss=1.220933, regularizer=3.3800, accuracy=75.58%\n",
      "epoch    590, loss=1.176648, regularizer=3.4120, accuracy=77.72%\n",
      "epoch    600, loss=1.164306, regularizer=3.4493, accuracy=79.33%\n",
      "epoch    610, loss=1.181950, regularizer=3.4813, accuracy=78.11%\n",
      "epoch    620, loss=1.153826, regularizer=3.5180, accuracy=80.21%\n",
      "epoch    630, loss=1.142711, regularizer=3.5552, accuracy=80.63%\n",
      "epoch    640, loss=1.147679, regularizer=3.5871, accuracy=80.01%\n",
      "epoch    650, loss=1.157741, regularizer=3.6204, accuracy=79.91%\n",
      "epoch    660, loss=1.137908, regularizer=3.6517, accuracy=80.88%\n",
      "epoch    670, loss=1.125581, regularizer=3.6850, accuracy=81.84%\n",
      "epoch    680, loss=1.151853, regularizer=3.7175, accuracy=79.94%\n",
      "epoch    690, loss=1.131226, regularizer=3.7444, accuracy=81.74%\n",
      "epoch    700, loss=1.107992, regularizer=3.7731, accuracy=83.26%\n",
      "epoch    710, loss=1.141393, regularizer=3.8037, accuracy=81.00%\n",
      "epoch    720, loss=1.076193, regularizer=3.8322, accuracy=85.71%\n",
      "epoch    730, loss=1.082978, regularizer=3.8622, accuracy=84.99%\n",
      "epoch    740, loss=1.081903, regularizer=3.8879, accuracy=85.30%\n",
      "epoch    750, loss=1.074100, regularizer=3.9110, accuracy=86.50%\n",
      "epoch    760, loss=1.085959, regularizer=3.9415, accuracy=85.89%\n",
      "epoch    770, loss=1.076627, regularizer=3.9688, accuracy=85.78%\n",
      "epoch    780, loss=1.077204, regularizer=3.9900, accuracy=86.03%\n",
      "epoch    790, loss=1.063040, regularizer=4.0145, accuracy=86.91%\n",
      "epoch    800, loss=1.038155, regularizer=4.0402, accuracy=88.48%\n",
      "epoch    810, loss=1.032155, regularizer=4.0634, accuracy=89.06%\n",
      "epoch    820, loss=1.032513, regularizer=4.0888, accuracy=89.39%\n",
      "epoch    830, loss=1.055010, regularizer=4.1144, accuracy=87.40%\n",
      "epoch    840, loss=1.027858, regularizer=4.1370, accuracy=89.30%\n",
      "epoch    850, loss=1.023650, regularizer=4.1595, accuracy=89.70%\n",
      "epoch    860, loss=1.026462, regularizer=4.1809, accuracy=89.79%\n",
      "epoch    870, loss=1.002001, regularizer=4.2048, accuracy=91.23%\n",
      "epoch    880, loss=0.996760, regularizer=4.2254, accuracy=91.67%\n",
      "epoch    890, loss=1.012051, regularizer=4.2472, accuracy=90.61%\n",
      "epoch    900, loss=1.006632, regularizer=4.2676, accuracy=91.30%\n",
      "epoch    910, loss=0.997384, regularizer=4.2874, accuracy=91.90%\n",
      "epoch    920, loss=1.001408, regularizer=4.3072, accuracy=91.46%\n",
      "epoch    930, loss=1.012673, regularizer=4.3260, accuracy=91.04%\n",
      "epoch    940, loss=0.980392, regularizer=4.3426, accuracy=92.70%\n",
      "epoch    950, loss=0.989739, regularizer=4.3599, accuracy=92.12%\n",
      "epoch    960, loss=1.008902, regularizer=4.3775, accuracy=91.27%\n",
      "epoch    970, loss=0.958078, regularizer=4.3957, accuracy=94.48%\n",
      "epoch    980, loss=0.961882, regularizer=4.4133, accuracy=94.24%\n",
      "epoch    990, loss=0.971615, regularizer=4.4294, accuracy=93.57%\n",
      "epoch   1000, loss=1.008920, regularizer=4.4462, accuracy=91.04%\n"
     ]
    }
   ],
   "source": [
    "model_name = 'fcn-trained.ckpt'\n",
    "\n",
    "n_epochs = 1000     # The number of full passes through the dataset before we quit training\n",
    "batch_size= 256  # Feed in only 256 images in a single batch instead of all 9,000\n",
    "\n",
    "training_size = x_train.shape[0]\n",
    "\n",
    "saver = tf.train.Saver() # Allows us to save and restore a model\n",
    "saver.restore(sess, model_name)\n",
    "\n",
    "\n",
    "for j in range(n_epochs):\n",
    "    perm = np.random.permutation(training_size)  # Every epoch, get a new set of batches\n",
    "    for i in range(0, training_size, batch_size):\n",
    "        idx = perm[i:i+batch_size]  # Select indices for batch\n",
    "        x_batch = x_train[idx]\n",
    "        y_batch = y_train[idx]\n",
    "        sess.run(train_step, feed_dict={x:x_batch, y:y_batch})\n",
    "    if j%10 == 9 or j==0:\n",
    "        l, r, a = sess.run([loss, regularizer, accuracy], feed_dict={x:x_train, y:y_train})\n",
    "        print(\"epoch %6d, loss=%6f, regularizer=%0.4f, accuracy=%.2f%%\" % (j+1, l, round(r, 4), 100*round(a, 4)))"
   ]
  },
  {
   "cell_type": "code",
   "execution_count": 18,
   "metadata": {},
   "outputs": [
    {
     "data": {
      "text/plain": [
       "'fcn-trained.ckpt'"
      ]
     },
     "execution_count": 18,
     "metadata": {},
     "output_type": "execute_result"
    }
   ],
   "source": [
    "saver.save(sess, model_name)  # Save the trained model in the file specified by `model_name`"
   ]
  },
  {
   "cell_type": "markdown",
   "metadata": {},
   "source": [
    "Generate some predictions!"
   ]
  },
  {
   "cell_type": "code",
   "execution_count": 19,
   "metadata": {},
   "outputs": [
    {
     "name": "stdout",
     "output_type": "stream",
     "text": [
      "Prediction: bird\n"
     ]
    },
    {
     "data": {
      "image/png": "[encoded data removed]",
      "text/plain": [
       "<matplotlib.figure.Figure at 0x7f3fdc2b1ac8>"
      ]
     },
     "metadata": {},
     "output_type": "display_data"
    }
   ],
   "source": [
    "# pick a random image from our test set (1000 images)\n",
    "random = 65\n",
    "sample = x_test[random]\n",
    "plt.imshow(sample.reshape(3,32,32).transpose(1,2,0));\n",
    "plt.title('Selected Image')\n",
    "\n",
    "print('Prediction:', label_names[sess.run(tf.argmax(pred, axis=1), feed_dict={x:[sample]})[0]])"
   ]
  },
  {
   "cell_type": "code",
   "execution_count": 20,
   "metadata": {},
   "outputs": [
    {
     "name": "stdout",
     "output_type": "stream",
     "text": [
      "Training Accuracy: 0.910445\n",
      "Testing Accuracy: 0.42\n"
     ]
    }
   ],
   "source": [
    "print('Training Accuracy:', sess.run(accuracy, feed_dict={x:x_train, y:y_train}))\n",
    "print('Testing Accuracy:', sess.run(accuracy, feed_dict={x:x_test, y:y_test}))"
   ]
  },
  {
   "cell_type": "markdown",
   "metadata": {
    "collapsed": true
   },
   "source": [
    "## Regularization\n",
    "When we train our model (i.e. optimize the weights), we are optimizing the performance of our model on the training data. However, we have to be careful because our model may become too specific to the training data we provided and not be able to generalize to new data in the test set that it has not seen - we refer to this as overfitting. To avoid this, we add a term to our loss function that measures the \"size\" (L2 norm) of each $W$, so that we do not get a weight matrix with extremely large values. \n",
    "\n",
    "To see why smaller weights are desirable, consider the image below:\n",
    "<img src ='https://upload.wikimedia.org/wikipedia/commons/thumb/0/02/Regularization.svg/354px-Regularization.svg.png' style=\"width: 250px;\"/>\n",
    "When we use highly complex models such as neural networks, it is desirable for the weights to be small so that the function does not fluctuate wildly with small changes to our inputs.\n"
   ]
  }
 ],
 "metadata": {
  "kernelspec": {
   "display_name": "Python 3",
   "language": "python",
   "name": "python3"
  },
  "language_info": {
   "codemirror_mode": {
    "name": "ipython",
    "version": 3
   },
   "file_extension": ".py",
   "mimetype": "text/x-python",
   "name": "python",
   "nbconvert_exporter": "python",
   "pygments_lexer": "ipython3",
   "version": "3.6.1"
  }
 },
 "nbformat": 4,
 "nbformat_minor": 2
}
